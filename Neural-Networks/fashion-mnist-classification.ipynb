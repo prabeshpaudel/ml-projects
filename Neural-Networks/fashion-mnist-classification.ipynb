{
 "cells": [
  {
   "cell_type": "code",
   "execution_count": 1,
   "metadata": {},
   "outputs": [],
   "source": [
    "import tensorflow as tf\n",
    "from tensorflow import keras"
   ]
  },
  {
   "cell_type": "code",
   "execution_count": 2,
   "metadata": {},
   "outputs": [],
   "source": [
    "fashion_mnist = keras.datasets.fashion_mnist"
   ]
  },
  {
   "cell_type": "code",
   "execution_count": 3,
   "metadata": {},
   "outputs": [
    {
     "name": "stdout",
     "output_type": "stream",
     "text": [
      "Downloading data from https://storage.googleapis.com/tensorflow/tf-keras-datasets/train-labels-idx1-ubyte.gz\n",
      "32768/29515 [=================================] - 0s 4us/step\n",
      "Downloading data from https://storage.googleapis.com/tensorflow/tf-keras-datasets/train-images-idx3-ubyte.gz\n",
      "26427392/26421880 [==============================] - 7s 0us/step\n",
      "Downloading data from https://storage.googleapis.com/tensorflow/tf-keras-datasets/t10k-labels-idx1-ubyte.gz\n",
      "8192/5148 [===============================================] - 0s 0us/step\n",
      "Downloading data from https://storage.googleapis.com/tensorflow/tf-keras-datasets/t10k-images-idx3-ubyte.gz\n",
      "4423680/4422102 [==============================] - 2s 0us/step\n"
     ]
    }
   ],
   "source": [
    "(X_train_full, y_train_full), (X_test, y_test) = fashion_mnist.load_data()"
   ]
  },
  {
   "cell_type": "code",
   "execution_count": 4,
   "metadata": {},
   "outputs": [
    {
     "name": "stdout",
     "output_type": "stream",
     "text": [
      "(60000, 28, 28) (60000,)\n"
     ]
    }
   ],
   "source": [
    "print(X_train_full.shape, y_train_full.shape)"
   ]
  },
  {
   "cell_type": "code",
   "execution_count": 22,
   "metadata": {},
   "outputs": [
    {
     "data": {
      "text/plain": [
       "(28, 28)"
      ]
     },
     "execution_count": 22,
     "metadata": {},
     "output_type": "execute_result"
    }
   ],
   "source": [
    "#X_train_full is a collection of 60,000 28x28 images so X_train_full[0].shape gives us a tuple of (28x28)\n",
    "X_train_full[0].shape"
   ]
  },
  {
   "cell_type": "code",
   "execution_count": 23,
   "metadata": {},
   "outputs": [],
   "source": [
    "X_valid, X_train = X_train_full[:5000] / 255.0, X_train_full[5000:] / 255.0\n",
    "y_valid, y_train = y_train_full[:5000], y_train_full[5000:]"
   ]
  },
  {
   "cell_type": "code",
   "execution_count": 25,
   "metadata": {},
   "outputs": [],
   "source": [
    "class_names = [\"T-shirt/top\", \"Trouser\", \"Pullover\", \"Dress\", \"Coat\",\n",
    "                   \"Sandal\", \"Shirt\", \"Sneaker\", \"Bag\", \"Ankle boot\"]"
   ]
  },
  {
   "cell_type": "code",
   "execution_count": 28,
   "metadata": {},
   "outputs": [
    {
     "data": {
      "text/plain": [
       "'Coat'"
      ]
     },
     "execution_count": 28,
     "metadata": {},
     "output_type": "execute_result"
    }
   ],
   "source": [
    "class_names[y_train[0]]"
   ]
  },
  {
   "cell_type": "code",
   "execution_count": 29,
   "metadata": {},
   "outputs": [],
   "source": [
    "nn_model = keras.models.Sequential()"
   ]
  },
  {
   "cell_type": "code",
   "execution_count": 31,
   "metadata": {},
   "outputs": [],
   "source": [
    "nn_model.add(keras.layers.Flatten(input_shape=[28,28]))\n",
    "nn_model.add(keras.layers.Dense(300, activation='relu'))\n",
    "nn_model.add(keras.layers.Dense(100, activation = 'relu'))\n",
    "nn_model.add(keras.layers.Dense(10, activation='softmax'))"
   ]
  },
  {
   "cell_type": "code",
   "execution_count": 32,
   "metadata": {},
   "outputs": [],
   "source": [
    "#Alternatively :\n",
    "# model = keras.models.Sequential([\n",
    "#     keras.layers.Flatten(input_shape=[28, 28]),\n",
    "#     keras.layers.Dense(300, activation=\"relu\"),\n",
    "#     keras.layers.Dense(100, activation=\"relu\"),\n",
    "#     keras.layers.Dense(10, activation=\"softmax\")\n",
    "# ])"
   ]
  },
  {
   "cell_type": "code",
   "execution_count": 33,
   "metadata": {},
   "outputs": [
    {
     "name": "stdout",
     "output_type": "stream",
     "text": [
      "Model: \"sequential\"\n",
      "_________________________________________________________________\n",
      "Layer (type)                 Output Shape              Param #   \n",
      "=================================================================\n",
      "flatten (Flatten)            (None, 784)               0         \n",
      "_________________________________________________________________\n",
      "dense (Dense)                (None, 300)               235500    \n",
      "_________________________________________________________________\n",
      "dense_1 (Dense)              (None, 100)               30100     \n",
      "_________________________________________________________________\n",
      "dense_2 (Dense)              (None, 10)                1010      \n",
      "=================================================================\n",
      "Total params: 266,610\n",
      "Trainable params: 266,610\n",
      "Non-trainable params: 0\n",
      "_________________________________________________________________\n"
     ]
    }
   ],
   "source": [
    "nn_model.summary()"
   ]
  },
  {
   "cell_type": "code",
   "execution_count": 36,
   "metadata": {},
   "outputs": [],
   "source": [
    "hidden1 = nn_model.layers[1]\n",
    "weights, biases = hidden1.get_weights()"
   ]
  },
  {
   "cell_type": "code",
   "execution_count": 38,
   "metadata": {},
   "outputs": [
    {
     "data": {
      "text/plain": [
       "(array([[ 0.06337568,  0.03662757,  0.00113556, ..., -0.06513789,\n",
       "          0.03990671, -0.01554476],\n",
       "        [-0.04000993, -0.01083291,  0.04539594, ...,  0.02939728,\n",
       "         -0.02507824,  0.01239764],\n",
       "        [ 0.00909567, -0.01688214,  0.00554388, ..., -0.05594544,\n",
       "          0.01369441,  0.06177944],\n",
       "        ...,\n",
       "        [ 0.00014438, -0.00601154, -0.05837485, ...,  0.07324855,\n",
       "          0.03267946,  0.06271803],\n",
       "        [ 0.06052448,  0.03806239,  0.05618195, ..., -0.05695254,\n",
       "         -0.0290926 , -0.06597988],\n",
       "        [-0.00608511,  0.061288  , -0.05658631, ..., -0.07269742,\n",
       "          0.00482304, -0.02610207]], dtype=float32),\n",
       " array([0., 0., 0., 0., 0., 0., 0., 0., 0., 0., 0., 0., 0., 0., 0., 0., 0.,\n",
       "        0., 0., 0., 0., 0., 0., 0., 0., 0., 0., 0., 0., 0., 0., 0., 0., 0.,\n",
       "        0., 0., 0., 0., 0., 0., 0., 0., 0., 0., 0., 0., 0., 0., 0., 0., 0.,\n",
       "        0., 0., 0., 0., 0., 0., 0., 0., 0., 0., 0., 0., 0., 0., 0., 0., 0.,\n",
       "        0., 0., 0., 0., 0., 0., 0., 0., 0., 0., 0., 0., 0., 0., 0., 0., 0.,\n",
       "        0., 0., 0., 0., 0., 0., 0., 0., 0., 0., 0., 0., 0., 0., 0., 0., 0.,\n",
       "        0., 0., 0., 0., 0., 0., 0., 0., 0., 0., 0., 0., 0., 0., 0., 0., 0.,\n",
       "        0., 0., 0., 0., 0., 0., 0., 0., 0., 0., 0., 0., 0., 0., 0., 0., 0.,\n",
       "        0., 0., 0., 0., 0., 0., 0., 0., 0., 0., 0., 0., 0., 0., 0., 0., 0.,\n",
       "        0., 0., 0., 0., 0., 0., 0., 0., 0., 0., 0., 0., 0., 0., 0., 0., 0.,\n",
       "        0., 0., 0., 0., 0., 0., 0., 0., 0., 0., 0., 0., 0., 0., 0., 0., 0.,\n",
       "        0., 0., 0., 0., 0., 0., 0., 0., 0., 0., 0., 0., 0., 0., 0., 0., 0.,\n",
       "        0., 0., 0., 0., 0., 0., 0., 0., 0., 0., 0., 0., 0., 0., 0., 0., 0.,\n",
       "        0., 0., 0., 0., 0., 0., 0., 0., 0., 0., 0., 0., 0., 0., 0., 0., 0.,\n",
       "        0., 0., 0., 0., 0., 0., 0., 0., 0., 0., 0., 0., 0., 0., 0., 0., 0.,\n",
       "        0., 0., 0., 0., 0., 0., 0., 0., 0., 0., 0., 0., 0., 0., 0., 0., 0.,\n",
       "        0., 0., 0., 0., 0., 0., 0., 0., 0., 0., 0., 0., 0., 0., 0., 0., 0.,\n",
       "        0., 0., 0., 0., 0., 0., 0., 0., 0., 0., 0.], dtype=float32))"
      ]
     },
     "execution_count": 38,
     "metadata": {},
     "output_type": "execute_result"
    }
   ],
   "source": [
    "weights, biases"
   ]
  },
  {
   "cell_type": "code",
   "execution_count": 39,
   "metadata": {},
   "outputs": [
    {
     "data": {
      "text/plain": [
       "(784, 300)"
      ]
     },
     "execution_count": 39,
     "metadata": {},
     "output_type": "execute_result"
    }
   ],
   "source": [
    "weights.shape"
   ]
  },
  {
   "cell_type": "code",
   "execution_count": 41,
   "metadata": {},
   "outputs": [],
   "source": [
    "nn_model.compile(loss = keras.losses.sparse_categorical_crossentropy, optimizer = \"sgd\", metrics = [\"accuracy\"])"
   ]
  },
  {
   "cell_type": "code",
   "execution_count": 42,
   "metadata": {},
   "outputs": [
    {
     "name": "stderr",
     "output_type": "stream",
     "text": [
      "WARNING: Logging before flag parsing goes to stderr.\n",
      "W0812 09:49:52.379997 4511643072 deprecation.py:323] From /Users/prabesh/anaconda3/lib/python3.7/site-packages/tensorflow/python/ops/math_grad.py:1250: add_dispatch_support.<locals>.wrapper (from tensorflow.python.ops.array_ops) is deprecated and will be removed in a future version.\n",
      "Instructions for updating:\n",
      "Use tf.where in 2.0, which has the same broadcast rule as np.where\n"
     ]
    },
    {
     "name": "stdout",
     "output_type": "stream",
     "text": [
      "Train on 55000 samples, validate on 5000 samples\n",
      "Epoch 1/30\n",
      "55000/55000 [==============================] - 2s 38us/sample - loss: 0.7201 - accuracy: 0.7637 - val_loss: 0.5032 - val_accuracy: 0.8316\n",
      "Epoch 2/30\n",
      "55000/55000 [==============================] - 2s 34us/sample - loss: 0.4887 - accuracy: 0.8307 - val_loss: 0.4558 - val_accuracy: 0.8468\n",
      "Epoch 3/30\n",
      "55000/55000 [==============================] - 2s 34us/sample - loss: 0.4445 - accuracy: 0.8448 - val_loss: 0.4048 - val_accuracy: 0.8600\n",
      "Epoch 4/30\n",
      "55000/55000 [==============================] - 2s 33us/sample - loss: 0.4171 - accuracy: 0.8533 - val_loss: 0.4064 - val_accuracy: 0.8608\n",
      "Epoch 5/30\n",
      "55000/55000 [==============================] - 2s 33us/sample - loss: 0.3971 - accuracy: 0.8615 - val_loss: 0.3929 - val_accuracy: 0.8650\n",
      "Epoch 6/30\n",
      "55000/55000 [==============================] - 2s 33us/sample - loss: 0.3811 - accuracy: 0.8662 - val_loss: 0.4041 - val_accuracy: 0.8490\n",
      "Epoch 7/30\n",
      "55000/55000 [==============================] - 2s 31us/sample - loss: 0.3686 - accuracy: 0.8702 - val_loss: 0.3570 - val_accuracy: 0.8762\n",
      "Epoch 8/30\n",
      "55000/55000 [==============================] - 2s 31us/sample - loss: 0.3558 - accuracy: 0.8744 - val_loss: 0.3668 - val_accuracy: 0.8694\n",
      "Epoch 9/30\n",
      "55000/55000 [==============================] - 2s 31us/sample - loss: 0.3455 - accuracy: 0.8782 - val_loss: 0.3534 - val_accuracy: 0.8748\n",
      "Epoch 10/30\n",
      "55000/55000 [==============================] - 2s 31us/sample - loss: 0.3350 - accuracy: 0.8803 - val_loss: 0.3447 - val_accuracy: 0.8760\n",
      "Epoch 11/30\n",
      "55000/55000 [==============================] - 2s 35us/sample - loss: 0.3276 - accuracy: 0.8830 - val_loss: 0.3433 - val_accuracy: 0.8776\n",
      "Epoch 12/30\n",
      "55000/55000 [==============================] - 2s 35us/sample - loss: 0.3189 - accuracy: 0.8853 - val_loss: 0.3405 - val_accuracy: 0.8806\n",
      "Epoch 13/30\n",
      "55000/55000 [==============================] - 2s 36us/sample - loss: 0.3108 - accuracy: 0.8897 - val_loss: 0.3360 - val_accuracy: 0.8818\n",
      "Epoch 14/30\n",
      "55000/55000 [==============================] - 2s 35us/sample - loss: 0.3037 - accuracy: 0.8918 - val_loss: 0.3301 - val_accuracy: 0.8864\n",
      "Epoch 15/30\n",
      "55000/55000 [==============================] - 2s 35us/sample - loss: 0.2981 - accuracy: 0.8926 - val_loss: 0.3220 - val_accuracy: 0.8846\n",
      "Epoch 16/30\n",
      "55000/55000 [==============================] - 2s 35us/sample - loss: 0.2917 - accuracy: 0.8947 - val_loss: 0.3206 - val_accuracy: 0.8858\n",
      "Epoch 17/30\n",
      "55000/55000 [==============================] - 2s 35us/sample - loss: 0.2864 - accuracy: 0.8974 - val_loss: 0.3130 - val_accuracy: 0.8882\n",
      "Epoch 18/30\n",
      "55000/55000 [==============================] - 2s 36us/sample - loss: 0.2806 - accuracy: 0.8981 - val_loss: 0.3144 - val_accuracy: 0.8886\n",
      "Epoch 19/30\n",
      "55000/55000 [==============================] - 2s 37us/sample - loss: 0.2744 - accuracy: 0.9019 - val_loss: 0.3155 - val_accuracy: 0.8828\n",
      "Epoch 20/30\n",
      "55000/55000 [==============================] - 2s 36us/sample - loss: 0.2701 - accuracy: 0.9024 - val_loss: 0.3138 - val_accuracy: 0.8858\n",
      "Epoch 21/30\n",
      "55000/55000 [==============================] - 2s 37us/sample - loss: 0.2646 - accuracy: 0.9039 - val_loss: 0.3111 - val_accuracy: 0.8884\n",
      "Epoch 22/30\n",
      "55000/55000 [==============================] - 2s 37us/sample - loss: 0.2600 - accuracy: 0.9071 - val_loss: 0.2988 - val_accuracy: 0.8932\n",
      "Epoch 23/30\n",
      "55000/55000 [==============================] - 2s 37us/sample - loss: 0.2546 - accuracy: 0.9085 - val_loss: 0.2982 - val_accuracy: 0.8904\n",
      "Epoch 24/30\n",
      "55000/55000 [==============================] - 2s 37us/sample - loss: 0.2503 - accuracy: 0.9096 - val_loss: 0.3040 - val_accuracy: 0.8870\n",
      "Epoch 25/30\n",
      "55000/55000 [==============================] - 2s 38us/sample - loss: 0.2454 - accuracy: 0.9122 - val_loss: 0.3213 - val_accuracy: 0.8810\n",
      "Epoch 26/30\n",
      "55000/55000 [==============================] - 2s 37us/sample - loss: 0.2422 - accuracy: 0.9120 - val_loss: 0.2993 - val_accuracy: 0.8952\n",
      "Epoch 27/30\n",
      "55000/55000 [==============================] - 2s 38us/sample - loss: 0.2377 - accuracy: 0.9148 - val_loss: 0.2919 - val_accuracy: 0.8926\n",
      "Epoch 28/30\n",
      "55000/55000 [==============================] - 2s 39us/sample - loss: 0.2331 - accuracy: 0.9160 - val_loss: 0.3030 - val_accuracy: 0.8884\n",
      "Epoch 29/30\n",
      "55000/55000 [==============================] - 2s 39us/sample - loss: 0.2300 - accuracy: 0.9180 - val_loss: 0.3067 - val_accuracy: 0.8862\n",
      "Epoch 30/30\n",
      "55000/55000 [==============================] - 2s 38us/sample - loss: 0.2258 - accuracy: 0.9187 - val_loss: 0.2880 - val_accuracy: 0.8958\n"
     ]
    }
   ],
   "source": [
    "history = nn_model.fit(X_train, y_train, epochs=30,\n",
    "                    validation_data=(X_valid, y_valid))"
   ]
  },
  {
   "cell_type": "code",
   "execution_count": 51,
   "metadata": {},
   "outputs": [
    {
     "data": {
      "image/png": "[encoded data removed]",
      "text/plain": [
       "<Figure size 576x360 with 1 Axes>"
      ]
     },
     "metadata": {
      "needs_background": "light"
     },
     "output_type": "display_data"
    }
   ],
   "source": [
    "import pandas as pd\n",
    "import matplotlib.pyplot as plt\n",
    "%matplotlib inline\n",
    "\n",
    "pd.DataFrame(history.history).plot(figsize=(8, 5))\n",
    "plt.grid(True)\n",
    "plt.gca().set_ylim(0, 1)\n",
    "plt.show()"
   ]
  },
  {
   "cell_type": "code",
   "execution_count": 53,
   "metadata": {},
   "outputs": [
    {
     "name": "stdout",
     "output_type": "stream",
     "text": [
      "10000/10000 [==============================] - 0s 19us/sample - loss: 2.2941 - accuracy: 0.8551\n"
     ]
    },
    {
     "data": {
      "text/plain": [
       "[2.2941078224949525, 0.8551]"
      ]
     },
     "execution_count": 53,
     "metadata": {},
     "output_type": "execute_result"
    }
   ],
   "source": [
    "nn_model.evaluate(X_test, y_test)"
   ]
  },
  {
   "cell_type": "code",
   "execution_count": 54,
   "metadata": {},
   "outputs": [
    {
     "data": {
      "text/plain": [
       "array([[0., 0., 0., 0., 0., 0., 0., 0., 0., 1.],\n",
       "       [0., 0., 1., 0., 0., 0., 0., 0., 0., 0.],\n",
       "       [0., 1., 0., 0., 0., 0., 0., 0., 0., 0.]], dtype=float32)"
      ]
     },
     "execution_count": 54,
     "metadata": {},
     "output_type": "execute_result"
    }
   ],
   "source": [
    "X_new = X_test[:3]\n",
    "y_proba = nn_model.predict(X_new)\n",
    "y_proba.round(2)"
   ]
  },
  {
   "cell_type": "code",
   "execution_count": 55,
   "metadata": {},
   "outputs": [],
   "source": [
    "y_pred = nn_model.predict_classes(X_new)"
   ]
  },
  {
   "cell_type": "code",
   "execution_count": 57,
   "metadata": {},
   "outputs": [
    {
     "data": {
      "text/plain": [
       "array(['Ankle boot', 'Pullover', 'Trouser'], dtype='<U11')"
      ]
     },
     "execution_count": 57,
     "metadata": {},
     "output_type": "execute_result"
    }
   ],
   "source": [
    "import numpy as np\n",
    "np.array(class_names)[y_pred]"
   ]
  },
  {
   "cell_type": "code",
   "execution_count": 61,
   "metadata": {},
   "outputs": [
    {
     "data": {
      "text/plain": [
       "<matplotlib.image.AxesImage at 0x7fdf5103b7b8>"
      ]
     },
     "execution_count": 61,
     "metadata": {},
     "output_type": "execute_result"
    },
    {
     "data": {
      "image/png": "[encoded data removed]",
      "text/plain": [
       "<Figure size 432x288 with 1 Axes>"
      ]
     },
     "metadata": {
      "needs_background": "light"
     },
     "output_type": "display_data"
    }
   ],
   "source": [
    "plt.imshow(X_new[0], cmap = 'binary')"
   ]
  },
  {
   "cell_type": "code",
   "execution_count": 63,
   "metadata": {},
   "outputs": [
    {
     "data": {
      "text/plain": [
       "<matplotlib.image.AxesImage at 0x7fdf4b3eecc0>"
      ]
     },
     "execution_count": 63,
     "metadata": {},
     "output_type": "execute_result"
    },
    {
     "data": {
      "image/png": "[encoded data removed]",
      "text/plain": [
       "<Figure size 432x288 with 1 Axes>"
      ]
     },
     "metadata": {
      "needs_background": "light"
     },
     "output_type": "display_data"
    }
   ],
   "source": [
    "plt.imshow(X_new[1], cmap = 'binary')"
   ]
  },
  {
   "cell_type": "code",
   "execution_count": 64,
   "metadata": {},
   "outputs": [
    {
     "data": {
      "text/plain": [
       "<matplotlib.image.AxesImage at 0x7fdf4b407898>"
      ]
     },
     "execution_count": 64,
     "metadata": {},
     "output_type": "execute_result"
    },
    {
     "data": {
      "image/png": "[encoded data removed]",
      "text/plain": [
       "<Figure size 432x288 with 1 Axes>"
      ]
     },
     "metadata": {
      "needs_background": "light"
     },
     "output_type": "display_data"
    }
   ],
   "source": [
    "plt.imshow(X_new[2], cmap = 'binary')"
   ]
  }
 ],
 "metadata": {
  "kernelspec": {
   "display_name": "Python 3",
   "language": "python",
   "name": "python3"
  },
  "language_info": {
   "codemirror_mode": {
    "name": "ipython",
    "version": 3
   },
   "file_extension": ".py",
   "mimetype": "text/x-python",
   "name": "python",
   "nbconvert_exporter": "python",
   "pygments_lexer": "ipython3",
   "version": "3.7.3"
  }
 },
 "nbformat": 4,
 "nbformat_minor": 2
}
