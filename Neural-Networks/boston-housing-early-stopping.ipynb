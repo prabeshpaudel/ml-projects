{
 "cells": [
  {
   "cell_type": "code",
   "execution_count": 2,
   "metadata": {},
   "outputs": [],
   "source": [
    "import numpy as np\n",
    "from sklearn.datasets import load_boston"
   ]
  },
  {
   "cell_type": "code",
   "execution_count": 4,
   "metadata": {},
   "outputs": [],
   "source": [
    "import pandas as pd"
   ]
  },
  {
   "cell_type": "code",
   "execution_count": 5,
   "metadata": {},
   "outputs": [],
   "source": [
    "boston = load_boston()"
   ]
  },
  {
   "cell_type": "code",
   "execution_count": 13,
   "metadata": {},
   "outputs": [
    {
     "data": {
      "text/html": [
       "<div>\n",
       "<style scoped>\n",
       "    .dataframe tbody tr th:only-of-type {\n",
       "        vertical-align: middle;\n",
       "    }\n",
       "\n",
       "    .dataframe tbody tr th {\n",
       "        vertical-align: top;\n",
       "    }\n",
       "\n",
       "    .dataframe thead th {\n",
       "        text-align: right;\n",
       "    }\n",
       "</style>\n",
       "<table border=\"1\" class=\"dataframe\">\n",
       "  <thead>\n",
       "    <tr style=\"text-align: right;\">\n",
       "      <th></th>\n",
       "      <th>CRIM</th>\n",
       "      <th>ZN</th>\n",
       "      <th>INDUS</th>\n",
       "      <th>CHAS</th>\n",
       "      <th>NOX</th>\n",
       "      <th>RM</th>\n",
       "      <th>AGE</th>\n",
       "      <th>DIS</th>\n",
       "      <th>RAD</th>\n",
       "      <th>TAX</th>\n",
       "      <th>PTRATIO</th>\n",
       "      <th>B</th>\n",
       "      <th>LSTAT</th>\n",
       "    </tr>\n",
       "  </thead>\n",
       "  <tbody>\n",
       "    <tr>\n",
       "      <th>0</th>\n",
       "      <td>0.00632</td>\n",
       "      <td>18.0</td>\n",
       "      <td>2.31</td>\n",
       "      <td>0.0</td>\n",
       "      <td>0.538</td>\n",
       "      <td>6.575</td>\n",
       "      <td>65.2</td>\n",
       "      <td>4.0900</td>\n",
       "      <td>1.0</td>\n",
       "      <td>296.0</td>\n",
       "      <td>15.3</td>\n",
       "      <td>396.90</td>\n",
       "      <td>4.98</td>\n",
       "    </tr>\n",
       "    <tr>\n",
       "      <th>1</th>\n",
       "      <td>0.02731</td>\n",
       "      <td>0.0</td>\n",
       "      <td>7.07</td>\n",
       "      <td>0.0</td>\n",
       "      <td>0.469</td>\n",
       "      <td>6.421</td>\n",
       "      <td>78.9</td>\n",
       "      <td>4.9671</td>\n",
       "      <td>2.0</td>\n",
       "      <td>242.0</td>\n",
       "      <td>17.8</td>\n",
       "      <td>396.90</td>\n",
       "      <td>9.14</td>\n",
       "    </tr>\n",
       "    <tr>\n",
       "      <th>2</th>\n",
       "      <td>0.02729</td>\n",
       "      <td>0.0</td>\n",
       "      <td>7.07</td>\n",
       "      <td>0.0</td>\n",
       "      <td>0.469</td>\n",
       "      <td>7.185</td>\n",
       "      <td>61.1</td>\n",
       "      <td>4.9671</td>\n",
       "      <td>2.0</td>\n",
       "      <td>242.0</td>\n",
       "      <td>17.8</td>\n",
       "      <td>392.83</td>\n",
       "      <td>4.03</td>\n",
       "    </tr>\n",
       "    <tr>\n",
       "      <th>3</th>\n",
       "      <td>0.03237</td>\n",
       "      <td>0.0</td>\n",
       "      <td>2.18</td>\n",
       "      <td>0.0</td>\n",
       "      <td>0.458</td>\n",
       "      <td>6.998</td>\n",
       "      <td>45.8</td>\n",
       "      <td>6.0622</td>\n",
       "      <td>3.0</td>\n",
       "      <td>222.0</td>\n",
       "      <td>18.7</td>\n",
       "      <td>394.63</td>\n",
       "      <td>2.94</td>\n",
       "    </tr>\n",
       "    <tr>\n",
       "      <th>4</th>\n",
       "      <td>0.06905</td>\n",
       "      <td>0.0</td>\n",
       "      <td>2.18</td>\n",
       "      <td>0.0</td>\n",
       "      <td>0.458</td>\n",
       "      <td>7.147</td>\n",
       "      <td>54.2</td>\n",
       "      <td>6.0622</td>\n",
       "      <td>3.0</td>\n",
       "      <td>222.0</td>\n",
       "      <td>18.7</td>\n",
       "      <td>396.90</td>\n",
       "      <td>5.33</td>\n",
       "    </tr>\n",
       "  </tbody>\n",
       "</table>\n",
       "</div>"
      ],
      "text/plain": [
       "      CRIM    ZN  INDUS  CHAS    NOX     RM   AGE     DIS  RAD    TAX  \\\n",
       "0  0.00632  18.0   2.31   0.0  0.538  6.575  65.2  4.0900  1.0  296.0   \n",
       "1  0.02731   0.0   7.07   0.0  0.469  6.421  78.9  4.9671  2.0  242.0   \n",
       "2  0.02729   0.0   7.07   0.0  0.469  7.185  61.1  4.9671  2.0  242.0   \n",
       "3  0.03237   0.0   2.18   0.0  0.458  6.998  45.8  6.0622  3.0  222.0   \n",
       "4  0.06905   0.0   2.18   0.0  0.458  7.147  54.2  6.0622  3.0  222.0   \n",
       "\n",
       "   PTRATIO       B  LSTAT  \n",
       "0     15.3  396.90   4.98  \n",
       "1     17.8  396.90   9.14  \n",
       "2     17.8  392.83   4.03  \n",
       "3     18.7  394.63   2.94  \n",
       "4     18.7  396.90   5.33  "
      ]
     },
     "execution_count": 13,
     "metadata": {},
     "output_type": "execute_result"
    }
   ],
   "source": [
    "data = pd.DataFrame(boston.data, columns=boston.feature_names)\n",
    "data.head()"
   ]
  },
  {
   "cell_type": "code",
   "execution_count": 14,
   "metadata": {},
   "outputs": [],
   "source": [
    "y = pd.DataFrame(boston.target)"
   ]
  },
  {
   "cell_type": "code",
   "execution_count": 15,
   "metadata": {},
   "outputs": [
    {
     "data": {
      "text/html": [
       "<div>\n",
       "<style scoped>\n",
       "    .dataframe tbody tr th:only-of-type {\n",
       "        vertical-align: middle;\n",
       "    }\n",
       "\n",
       "    .dataframe tbody tr th {\n",
       "        vertical-align: top;\n",
       "    }\n",
       "\n",
       "    .dataframe thead th {\n",
       "        text-align: right;\n",
       "    }\n",
       "</style>\n",
       "<table border=\"1\" class=\"dataframe\">\n",
       "  <thead>\n",
       "    <tr style=\"text-align: right;\">\n",
       "      <th></th>\n",
       "      <th>0</th>\n",
       "    </tr>\n",
       "  </thead>\n",
       "  <tbody>\n",
       "    <tr>\n",
       "      <th>0</th>\n",
       "      <td>24.0</td>\n",
       "    </tr>\n",
       "    <tr>\n",
       "      <th>1</th>\n",
       "      <td>21.6</td>\n",
       "    </tr>\n",
       "    <tr>\n",
       "      <th>2</th>\n",
       "      <td>34.7</td>\n",
       "    </tr>\n",
       "    <tr>\n",
       "      <th>3</th>\n",
       "      <td>33.4</td>\n",
       "    </tr>\n",
       "    <tr>\n",
       "      <th>4</th>\n",
       "      <td>36.2</td>\n",
       "    </tr>\n",
       "  </tbody>\n",
       "</table>\n",
       "</div>"
      ],
      "text/plain": [
       "      0\n",
       "0  24.0\n",
       "1  21.6\n",
       "2  34.7\n",
       "3  33.4\n",
       "4  36.2"
      ]
     },
     "execution_count": 15,
     "metadata": {},
     "output_type": "execute_result"
    }
   ],
   "source": [
    "y.head()"
   ]
  },
  {
   "cell_type": "code",
   "execution_count": 16,
   "metadata": {},
   "outputs": [],
   "source": [
    "from sklearn.model_selection import train_test_split"
   ]
  },
  {
   "cell_type": "code",
   "execution_count": 18,
   "metadata": {},
   "outputs": [],
   "source": [
    "X_train, X_test, y_train, y_test = train_test_split(data, y, test_size=0.2)"
   ]
  },
  {
   "cell_type": "code",
   "execution_count": 19,
   "metadata": {},
   "outputs": [],
   "source": [
    "X_valid, X_test, y_valid, y_test = train_test_split(X_test, y_test, test_size=0.6)"
   ]
  },
  {
   "cell_type": "code",
   "execution_count": 20,
   "metadata": {},
   "outputs": [],
   "source": [
    "from tensorflow.keras.models import Sequential\n",
    "from tensorflow.keras.layers import Dense\n",
    "from tensorflow.keras.callbacks import EarlyStopping"
   ]
  },
  {
   "cell_type": "code",
   "execution_count": 22,
   "metadata": {},
   "outputs": [
    {
     "data": {
      "text/plain": [
       "(404, 13)"
      ]
     },
     "execution_count": 22,
     "metadata": {},
     "output_type": "execute_result"
    }
   ],
   "source": [
    "X_train.shape"
   ]
  },
  {
   "cell_type": "code",
   "execution_count": 21,
   "metadata": {},
   "outputs": [],
   "source": [
    "#design a model\n",
    "\n",
    "model = Sequential()"
   ]
  },
  {
   "cell_type": "code",
   "execution_count": 25,
   "metadata": {},
   "outputs": [],
   "source": [
    "model.add(Dense(50, input_dim = X_train.shape[1], activation = 'relu'))\n",
    "model.add(Dense(25, activation = 'relu'))\n",
    "model.add(Dense(10,activation = 'relu'))\n",
    "model.add(Dense(1, activation = 'linear'))"
   ]
  },
  {
   "cell_type": "code",
   "execution_count": 26,
   "metadata": {},
   "outputs": [
    {
     "name": "stdout",
     "output_type": "stream",
     "text": [
      "Model: \"sequential\"\n",
      "_________________________________________________________________\n",
      "Layer (type)                 Output Shape              Param #   \n",
      "=================================================================\n",
      "dense_1 (Dense)              (None, 50)                700       \n",
      "_________________________________________________________________\n",
      "dense_3 (Dense)              (None, 50)                2550      \n",
      "_________________________________________________________________\n",
      "dense_4 (Dense)              (None, 25)                1275      \n",
      "_________________________________________________________________\n",
      "dense_5 (Dense)              (None, 10)                260       \n",
      "_________________________________________________________________\n",
      "dense_6 (Dense)              (None, 1)                 11        \n",
      "=================================================================\n",
      "Total params: 4,796\n",
      "Trainable params: 4,796\n",
      "Non-trainable params: 0\n",
      "_________________________________________________________________\n"
     ]
    }
   ],
   "source": [
    "model.summary()"
   ]
  },
  {
   "cell_type": "code",
   "execution_count": 27,
   "metadata": {},
   "outputs": [],
   "source": [
    "model.compile(loss = 'mean_squared_error', optimizer = 'adam')\n",
    "monitor = EarlyStopping(monitor='val_loss', min_delta=1e-3, patience=5, verbose=2, \n",
    "                        mode='auto', restore_best_weights=True)"
   ]
  },
  {
   "cell_type": "code",
   "execution_count": 28,
   "metadata": {},
   "outputs": [
    {
     "name": "stdout",
     "output_type": "stream",
     "text": [
      "Train on 404 samples, validate on 40 samples\n",
      "Epoch 1/1000\n",
      "404/404 - 0s - loss: 275.5954 - val_loss: 121.0746\n",
      "Epoch 2/1000\n",
      "404/404 - 0s - loss: 82.9224 - val_loss: 89.1099\n",
      "Epoch 3/1000\n",
      "404/404 - 0s - loss: 74.3389 - val_loss: 96.2680\n",
      "Epoch 4/1000\n",
      "404/404 - 0s - loss: 69.3759 - val_loss: 84.2255\n",
      "Epoch 5/1000\n",
      "404/404 - 0s - loss: 63.1727 - val_loss: 85.0679\n",
      "Epoch 6/1000\n",
      "404/404 - 0s - loss: 60.4141 - val_loss: 84.7181\n",
      "Epoch 7/1000\n",
      "404/404 - 0s - loss: 58.5854 - val_loss: 83.9506\n",
      "Epoch 8/1000\n",
      "404/404 - 0s - loss: 57.1041 - val_loss: 83.2322\n",
      "Epoch 9/1000\n",
      "404/404 - 0s - loss: 56.3065 - val_loss: 83.0593\n",
      "Epoch 10/1000\n",
      "404/404 - 0s - loss: 54.8759 - val_loss: 81.8629\n",
      "Epoch 11/1000\n",
      "404/404 - 0s - loss: 53.3227 - val_loss: 83.3988\n",
      "Epoch 12/1000\n",
      "404/404 - 0s - loss: 53.1182 - val_loss: 79.9545\n",
      "Epoch 13/1000\n",
      "404/404 - 0s - loss: 53.0818 - val_loss: 79.9893\n",
      "Epoch 14/1000\n",
      "404/404 - 0s - loss: 52.9202 - val_loss: 84.0448\n",
      "Epoch 15/1000\n",
      "404/404 - 0s - loss: 54.1315 - val_loss: 81.2879\n",
      "Epoch 16/1000\n",
      "404/404 - 0s - loss: 54.9188 - val_loss: 79.6056\n",
      "Epoch 17/1000\n",
      "404/404 - 0s - loss: 50.0086 - val_loss: 76.3420\n",
      "Epoch 18/1000\n",
      "404/404 - 0s - loss: 48.6613 - val_loss: 75.2454\n",
      "Epoch 19/1000\n",
      "404/404 - 0s - loss: 50.7258 - val_loss: 76.4373\n",
      "Epoch 20/1000\n",
      "404/404 - 0s - loss: 50.0807 - val_loss: 78.8125\n",
      "Epoch 21/1000\n",
      "404/404 - 0s - loss: 48.5628 - val_loss: 72.8703\n",
      "Epoch 22/1000\n",
      "404/404 - 0s - loss: 46.6531 - val_loss: 71.3607\n",
      "Epoch 23/1000\n",
      "404/404 - 0s - loss: 46.5770 - val_loss: 70.8767\n",
      "Epoch 24/1000\n",
      "404/404 - 0s - loss: 45.3988 - val_loss: 69.1928\n",
      "Epoch 25/1000\n",
      "404/404 - 0s - loss: 44.6995 - val_loss: 70.2205\n",
      "Epoch 26/1000\n",
      "404/404 - 0s - loss: 44.1422 - val_loss: 67.8353\n",
      "Epoch 27/1000\n",
      "404/404 - 0s - loss: 43.1558 - val_loss: 68.2423\n",
      "Epoch 28/1000\n",
      "404/404 - 0s - loss: 43.0029 - val_loss: 66.6143\n",
      "Epoch 29/1000\n",
      "404/404 - 0s - loss: 43.7287 - val_loss: 65.7092\n",
      "Epoch 30/1000\n",
      "404/404 - 0s - loss: 44.2604 - val_loss: 65.5384\n",
      "Epoch 31/1000\n",
      "404/404 - 0s - loss: 44.1360 - val_loss: 62.7832\n",
      "Epoch 32/1000\n",
      "404/404 - 0s - loss: 42.2042 - val_loss: 63.0099\n",
      "Epoch 33/1000\n",
      "404/404 - 0s - loss: 41.4630 - val_loss: 61.4759\n",
      "Epoch 34/1000\n",
      "404/404 - 0s - loss: 39.1515 - val_loss: 60.0357\n",
      "Epoch 35/1000\n",
      "404/404 - 0s - loss: 38.2299 - val_loss: 61.0409\n",
      "Epoch 36/1000\n",
      "404/404 - 0s - loss: 39.4970 - val_loss: 55.9861\n",
      "Epoch 37/1000\n",
      "404/404 - 0s - loss: 38.0579 - val_loss: 56.5442\n",
      "Epoch 38/1000\n",
      "404/404 - 0s - loss: 38.4402 - val_loss: 56.3939\n",
      "Epoch 39/1000\n",
      "404/404 - 0s - loss: 36.3904 - val_loss: 53.6093\n",
      "Epoch 40/1000\n",
      "404/404 - 0s - loss: 35.7400 - val_loss: 53.3261\n",
      "Epoch 41/1000\n",
      "404/404 - 0s - loss: 34.7687 - val_loss: 58.4549\n",
      "Epoch 42/1000\n",
      "404/404 - 0s - loss: 36.4625 - val_loss: 50.0048\n",
      "Epoch 43/1000\n",
      "404/404 - 0s - loss: 34.9985 - val_loss: 56.8014\n",
      "Epoch 44/1000\n",
      "404/404 - 0s - loss: 35.0785 - val_loss: 50.4721\n",
      "Epoch 45/1000\n",
      "404/404 - 0s - loss: 35.5674 - val_loss: 48.4744\n",
      "Epoch 46/1000\n",
      "404/404 - 0s - loss: 32.0326 - val_loss: 48.8893\n",
      "Epoch 47/1000\n",
      "404/404 - 0s - loss: 31.7157 - val_loss: 50.5464\n",
      "Epoch 48/1000\n",
      "404/404 - 0s - loss: 31.6141 - val_loss: 46.3079\n",
      "Epoch 49/1000\n",
      "404/404 - 0s - loss: 30.0059 - val_loss: 47.7695\n",
      "Epoch 50/1000\n",
      "404/404 - 0s - loss: 30.1236 - val_loss: 45.0385\n",
      "Epoch 51/1000\n",
      "404/404 - 0s - loss: 29.2129 - val_loss: 44.3583\n",
      "Epoch 52/1000\n",
      "404/404 - 0s - loss: 29.1237 - val_loss: 44.2770\n",
      "Epoch 53/1000\n",
      "404/404 - 0s - loss: 29.3934 - val_loss: 47.7348\n",
      "Epoch 54/1000\n",
      "404/404 - 0s - loss: 31.7614 - val_loss: 42.1571\n",
      "Epoch 55/1000\n",
      "404/404 - 0s - loss: 28.5796 - val_loss: 46.6590\n",
      "Epoch 56/1000\n",
      "404/404 - 0s - loss: 30.2129 - val_loss: 51.2582\n",
      "Epoch 57/1000\n",
      "404/404 - 0s - loss: 30.0516 - val_loss: 41.4788\n",
      "Epoch 58/1000\n",
      "404/404 - 0s - loss: 29.8042 - val_loss: 43.4561\n",
      "Epoch 59/1000\n",
      "404/404 - 0s - loss: 28.1276 - val_loss: 45.4310\n",
      "Epoch 60/1000\n",
      "404/404 - 0s - loss: 26.3503 - val_loss: 40.4209\n",
      "Epoch 61/1000\n",
      "404/404 - 0s - loss: 25.3338 - val_loss: 44.7056\n",
      "Epoch 62/1000\n",
      "404/404 - 0s - loss: 27.8235 - val_loss: 36.1360\n",
      "Epoch 63/1000\n",
      "404/404 - 0s - loss: 24.9009 - val_loss: 40.2692\n",
      "Epoch 64/1000\n",
      "404/404 - 0s - loss: 25.3643 - val_loss: 39.7648\n",
      "Epoch 65/1000\n",
      "404/404 - 0s - loss: 26.8036 - val_loss: 39.6328\n",
      "Epoch 66/1000\n",
      "404/404 - 0s - loss: 28.0624 - val_loss: 38.4990\n",
      "Epoch 67/1000\n",
      "Restoring model weights from the end of the best epoch.\n",
      "404/404 - 0s - loss: 24.9086 - val_loss: 46.2620\n",
      "Epoch 00067: early stopping\n"
     ]
    },
    {
     "data": {
      "text/plain": [
       "<tensorflow.python.keras.callbacks.History at 0x7fde9e8be320>"
      ]
     },
     "execution_count": 28,
     "metadata": {},
     "output_type": "execute_result"
    }
   ],
   "source": [
    "model.fit(X_train, y_train, validation_data=(X_valid, y_valid), callbacks=[monitor], verbose=2, epochs=1000)"
   ]
  },
  {
   "cell_type": "code",
   "execution_count": 29,
   "metadata": {},
   "outputs": [],
   "source": [
    "predictions = model.predict(X_test)"
   ]
  },
  {
   "cell_type": "code",
   "execution_count": 30,
   "metadata": {},
   "outputs": [],
   "source": [
    "from sklearn.metrics import mean_squared_error"
   ]
  },
  {
   "cell_type": "code",
   "execution_count": 31,
   "metadata": {},
   "outputs": [
    {
     "name": "stdout",
     "output_type": "stream",
     "text": [
      "24.810565742020415\n"
     ]
    }
   ],
   "source": [
    "print(mean_squared_error(y_test, predictions))"
   ]
  }
 ],
 "metadata": {
  "kernelspec": {
   "display_name": "Python 3",
   "language": "python",
   "name": "python3"
  },
  "language_info": {
   "codemirror_mode": {
    "name": "ipython",
    "version": 3
   },
   "file_extension": ".py",
   "mimetype": "text/x-python",
   "name": "python",
   "nbconvert_exporter": "python",
   "pygments_lexer": "ipython3",
   "version": "3.7.3"
  }
 },
 "nbformat": 4,
 "nbformat_minor": 2
}
