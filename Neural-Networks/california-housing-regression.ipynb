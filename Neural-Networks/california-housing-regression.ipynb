{
 "cells": [
  {
   "cell_type": "code",
   "execution_count": 1,
   "metadata": {},
   "outputs": [],
   "source": [
    "from sklearn.datasets import fetch_california_housing\n",
    "from sklearn.model_selection import train_test_split\n",
    "from sklearn.preprocessing import StandardScaler\n",
    "\n",
    "housing = fetch_california_housing()\n",
    "\n",
    "X_train_full, X_test, y_train_full, y_test = train_test_split(housing.data, housing.target, random_state=42)\n",
    "X_train, X_valid, y_train, y_valid = train_test_split(X_train_full, y_train_full, random_state=42)\n",
    "\n",
    "scaler = StandardScaler()\n",
    "X_train = scaler.fit_transform(X_train)\n",
    "X_valid = scaler.transform(X_valid)\n",
    "X_test = scaler.transform(X_test)"
   ]
  },
  {
   "cell_type": "code",
   "execution_count": 2,
   "metadata": {},
   "outputs": [
    {
     "data": {
      "text/html": [
       "<div>\n",
       "<style scoped>\n",
       "    .dataframe tbody tr th:only-of-type {\n",
       "        vertical-align: middle;\n",
       "    }\n",
       "\n",
       "    .dataframe tbody tr th {\n",
       "        vertical-align: top;\n",
       "    }\n",
       "\n",
       "    .dataframe thead th {\n",
       "        text-align: right;\n",
       "    }\n",
       "</style>\n",
       "<table border=\"1\" class=\"dataframe\">\n",
       "  <thead>\n",
       "    <tr style=\"text-align: right;\">\n",
       "      <th></th>\n",
       "      <th>0</th>\n",
       "      <th>1</th>\n",
       "      <th>2</th>\n",
       "      <th>3</th>\n",
       "      <th>4</th>\n",
       "      <th>5</th>\n",
       "      <th>6</th>\n",
       "      <th>7</th>\n",
       "    </tr>\n",
       "  </thead>\n",
       "  <tbody>\n",
       "    <tr>\n",
       "      <th>0</th>\n",
       "      <td>-0.193979</td>\n",
       "      <td>-1.077813</td>\n",
       "      <td>-0.943385</td>\n",
       "      <td>0.014853</td>\n",
       "      <td>0.020733</td>\n",
       "      <td>-0.572916</td>\n",
       "      <td>0.929260</td>\n",
       "      <td>-1.422155</td>\n",
       "    </tr>\n",
       "    <tr>\n",
       "      <th>1</th>\n",
       "      <td>0.751983</td>\n",
       "      <td>-1.868895</td>\n",
       "      <td>0.405478</td>\n",
       "      <td>-0.233277</td>\n",
       "      <td>1.861465</td>\n",
       "      <td>0.205165</td>\n",
       "      <td>-0.916547</td>\n",
       "      <td>1.096670</td>\n",
       "    </tr>\n",
       "    <tr>\n",
       "      <th>2</th>\n",
       "      <td>-0.414691</td>\n",
       "      <td>0.029701</td>\n",
       "      <td>0.818088</td>\n",
       "      <td>1.056784</td>\n",
       "      <td>-0.087867</td>\n",
       "      <td>-0.299833</td>\n",
       "      <td>1.308729</td>\n",
       "      <td>-1.697027</td>\n",
       "    </tr>\n",
       "    <tr>\n",
       "      <th>3</th>\n",
       "      <td>1.718896</td>\n",
       "      <td>-1.315138</td>\n",
       "      <td>0.326644</td>\n",
       "      <td>-0.219551</td>\n",
       "      <td>-0.337922</td>\n",
       "      <td>-0.111466</td>\n",
       "      <td>-0.982134</td>\n",
       "      <td>0.941742</td>\n",
       "    </tr>\n",
       "    <tr>\n",
       "      <th>4</th>\n",
       "      <td>-0.962072</td>\n",
       "      <td>-1.236030</td>\n",
       "      <td>-0.056258</td>\n",
       "      <td>-0.031244</td>\n",
       "      <td>1.709059</td>\n",
       "      <td>-0.302570</td>\n",
       "      <td>-0.804112</td>\n",
       "      <td>1.326562</td>\n",
       "    </tr>\n",
       "  </tbody>\n",
       "</table>\n",
       "</div>"
      ],
      "text/plain": [
       "          0         1         2         3         4         5         6  \\\n",
       "0 -0.193979 -1.077813 -0.943385  0.014853  0.020733 -0.572916  0.929260   \n",
       "1  0.751983 -1.868895  0.405478 -0.233277  1.861465  0.205165 -0.916547   \n",
       "2 -0.414691  0.029701  0.818088  1.056784 -0.087867 -0.299833  1.308729   \n",
       "3  1.718896 -1.315138  0.326644 -0.219551 -0.337922 -0.111466 -0.982134   \n",
       "4 -0.962072 -1.236030 -0.056258 -0.031244  1.709059 -0.302570 -0.804112   \n",
       "\n",
       "          7  \n",
       "0 -1.422155  \n",
       "1  1.096670  \n",
       "2 -1.697027  \n",
       "3  0.941742  \n",
       "4  1.326562  "
      ]
     },
     "execution_count": 2,
     "metadata": {},
     "output_type": "execute_result"
    }
   ],
   "source": [
    "import pandas as pd\n",
    "pd.DataFrame(X_train).head()"
   ]
  },
  {
   "cell_type": "code",
   "execution_count": 3,
   "metadata": {},
   "outputs": [],
   "source": [
    "import tensorflow as tf\n",
    "from tensorflow import keras"
   ]
  },
  {
   "cell_type": "code",
   "execution_count": 4,
   "metadata": {},
   "outputs": [],
   "source": [
    "model = keras.models.Sequential([\n",
    "    keras.layers.Dense(30, activation = keras.activations.relu, input_shape = X_train.shape[1:]),\n",
    "    keras.layers.Dense(1)\n",
    "])\n",
    "model.compile(loss = keras.losses.mean_squared_error, optimizer = 'sgd')"
   ]
  },
  {
   "cell_type": "code",
   "execution_count": 5,
   "metadata": {},
   "outputs": [
    {
     "name": "stdout",
     "output_type": "stream",
     "text": [
      "Train on 11610 samples, validate on 3870 samples\n",
      "Epoch 1/20\n",
      "11610/11610 [==============================] - 0s 28us/sample - loss: 1.0084 - val_loss: 3.6494\n",
      "Epoch 2/20\n",
      "11610/11610 [==============================] - 0s 20us/sample - loss: 0.5607 - val_loss: 8.4168\n",
      "Epoch 3/20\n",
      "11610/11610 [==============================] - 0s 20us/sample - loss: 0.5103 - val_loss: 0.8261\n",
      "Epoch 4/20\n",
      "11610/11610 [==============================] - 0s 21us/sample - loss: 0.4373 - val_loss: 0.4097\n",
      "Epoch 5/20\n",
      "11610/11610 [==============================] - 0s 20us/sample - loss: 0.4179 - val_loss: 0.3927\n",
      "Epoch 6/20\n",
      "11610/11610 [==============================] - 0s 19us/sample - loss: 0.4085 - val_loss: 0.3745\n",
      "Epoch 7/20\n",
      "11610/11610 [==============================] - 0s 19us/sample - loss: 0.3995 - val_loss: 0.3669\n",
      "Epoch 8/20\n",
      "11610/11610 [==============================] - 0s 19us/sample - loss: 0.3968 - val_loss: 0.3669\n",
      "Epoch 9/20\n",
      "11610/11610 [==============================] - 0s 20us/sample - loss: 0.3900 - val_loss: 0.3548\n",
      "Epoch 10/20\n",
      "11610/11610 [==============================] - 0s 20us/sample - loss: 0.3842 - val_loss: 0.3542\n",
      "Epoch 11/20\n",
      "11610/11610 [==============================] - 0s 20us/sample - loss: 0.3819 - val_loss: 0.3537\n",
      "Epoch 12/20\n",
      "11610/11610 [==============================] - 0s 19us/sample - loss: 0.3797 - val_loss: 0.3493\n",
      "Epoch 13/20\n",
      "11610/11610 [==============================] - 0s 20us/sample - loss: 0.3741 - val_loss: 0.3456\n",
      "Epoch 14/20\n",
      "11610/11610 [==============================] - 0s 23us/sample - loss: 0.3722 - val_loss: 0.3434\n",
      "Epoch 15/20\n",
      "11610/11610 [==============================] - 0s 20us/sample - loss: 0.3723 - val_loss: 0.3402\n",
      "Epoch 16/20\n",
      "11610/11610 [==============================] - 0s 20us/sample - loss: 0.3666 - val_loss: 0.3430\n",
      "Epoch 17/20\n",
      "11610/11610 [==============================] - 0s 23us/sample - loss: 0.3654 - val_loss: 0.3378\n",
      "Epoch 18/20\n",
      "11610/11610 [==============================] - 0s 20us/sample - loss: 0.3614 - val_loss: 0.3356\n",
      "Epoch 19/20\n",
      "11610/11610 [==============================] - 0s 20us/sample - loss: 0.3611 - val_loss: 0.3353\n",
      "Epoch 20/20\n",
      "11610/11610 [==============================] - 0s 20us/sample - loss: 0.3585 - val_loss: 0.3432\n"
     ]
    }
   ],
   "source": [
    "history = model.fit(X_train, y_train, epochs=20, validation_data=(X_valid, y_valid))"
   ]
  },
  {
   "cell_type": "code",
   "execution_count": 6,
   "metadata": {},
   "outputs": [
    {
     "name": "stdout",
     "output_type": "stream",
     "text": [
      "5160/5160 [==============================] - 0s 11us/sample - loss: 0.3694\n"
     ]
    }
   ],
   "source": [
    "mse_test = model.evaluate(X_test, y_test)"
   ]
  },
  {
   "cell_type": "code",
   "execution_count": 13,
   "metadata": {},
   "outputs": [
    {
     "data": {
      "text/plain": [
       "array([[2.7777617]], dtype=float32)"
      ]
     },
     "execution_count": 13,
     "metadata": {},
     "output_type": "execute_result"
    }
   ],
   "source": [
    "model.predict(scaler.transform(X_train_full[-2].reshape(1,-1)))"
   ]
  },
  {
   "cell_type": "code",
   "execution_count": 8,
   "metadata": {},
   "outputs": [
    {
     "data": {
      "text/plain": [
       "array([2.285, 2.799, 1.83 , ..., 2.221, 2.835, 3.25 ])"
      ]
     },
     "execution_count": 8,
     "metadata": {},
     "output_type": "execute_result"
    }
   ],
   "source": [
    "y_train_full"
   ]
  },
  {
   "cell_type": "code",
   "execution_count": 15,
   "metadata": {},
   "outputs": [],
   "source": [
    "import numpy as np\n",
    "np.random.seed(42)\n",
    "tf.random.set_seed(42)"
   ]
  },
  {
   "cell_type": "code",
   "execution_count": 16,
   "metadata": {},
   "outputs": [],
   "source": [
    "input_ = keras.layers.Input(shape=X_train.shape[1:])\n",
    "hidden1 = keras.layers.Dense(30, activation=\"relu\")(input_)\n",
    "hidden2 = keras.layers.Dense(30, activation=\"relu\")(hidden1)\n",
    "concat = keras.layers.concatenate([input_, hidden2])\n",
    "output = keras.layers.Dense(1)(concat)\n",
    "model = keras.models.Model(inputs=[input_], outputs=[output])"
   ]
  },
  {
   "cell_type": "code",
   "execution_count": 18,
   "metadata": {},
   "outputs": [
    {
     "name": "stdout",
     "output_type": "stream",
     "text": [
      "Train on 11610 samples, validate on 3870 samples\n",
      "Epoch 1/20\n",
      "11610/11610 [==============================] - 0s 30us/sample - loss: 0.4054 - val_loss: 0.3812\n",
      "Epoch 2/20\n",
      "11610/11610 [==============================] - 0s 22us/sample - loss: 0.4022 - val_loss: 0.3985\n",
      "Epoch 3/20\n",
      "11610/11610 [==============================] - 0s 23us/sample - loss: 0.3996 - val_loss: 0.3783\n",
      "Epoch 4/20\n",
      "11610/11610 [==============================] - 0s 23us/sample - loss: 0.3967 - val_loss: 0.3736\n",
      "Epoch 5/20\n",
      "11610/11610 [==============================] - 0s 23us/sample - loss: 0.3941 - val_loss: 0.3666\n",
      "Epoch 6/20\n",
      "11610/11610 [==============================] - 0s 22us/sample - loss: 0.3916 - val_loss: 0.3674\n",
      "Epoch 7/20\n",
      "11610/11610 [==============================] - 0s 22us/sample - loss: 0.3897 - val_loss: 0.3657\n",
      "Epoch 8/20\n",
      "11610/11610 [==============================] - 0s 23us/sample - loss: 0.3874 - val_loss: 0.3621\n",
      "Epoch 9/20\n",
      "11610/11610 [==============================] - 0s 23us/sample - loss: 0.3850 - val_loss: 0.3806\n",
      "Epoch 10/20\n",
      "11610/11610 [==============================] - 0s 23us/sample - loss: 0.3837 - val_loss: 0.3619\n",
      "Epoch 11/20\n",
      "11610/11610 [==============================] - 0s 23us/sample - loss: 0.3814 - val_loss: 0.3617\n",
      "Epoch 12/20\n",
      "11610/11610 [==============================] - 0s 24us/sample - loss: 0.3798 - val_loss: 0.3638\n",
      "Epoch 13/20\n",
      "11610/11610 [==============================] - 0s 24us/sample - loss: 0.3781 - val_loss: 0.3595\n",
      "Epoch 14/20\n",
      "11610/11610 [==============================] - 0s 23us/sample - loss: 0.3766 - val_loss: 0.3565\n",
      "Epoch 15/20\n",
      "11610/11610 [==============================] - 0s 23us/sample - loss: 0.3749 - val_loss: 0.3670\n",
      "Epoch 16/20\n",
      "11610/11610 [==============================] - 0s 23us/sample - loss: 0.3733 - val_loss: 0.3672\n",
      "Epoch 17/20\n",
      "11610/11610 [==============================] - 0s 23us/sample - loss: 0.3721 - val_loss: 0.3503\n",
      "Epoch 18/20\n",
      "11610/11610 [==============================] - 0s 23us/sample - loss: 0.3705 - val_loss: 0.3569\n",
      "Epoch 19/20\n",
      "11610/11610 [==============================] - 0s 23us/sample - loss: 0.3690 - val_loss: 0.3488\n",
      "Epoch 20/20\n",
      "11610/11610 [==============================] - 0s 22us/sample - loss: 0.3681 - val_loss: 0.3454\n",
      "5160/5160 [==============================] - 0s 11us/sample - loss: 0.3660\n"
     ]
    }
   ],
   "source": [
    "X_new = X_test[:3]\n",
    "model.compile(loss=\"mean_squared_error\", optimizer=keras.optimizers.SGD(lr=1e-3))\n",
    "history = model.fit(X_train, y_train, epochs=20,\n",
    "                    validation_data=(X_valid, y_valid))\n",
    "mse_test = model.evaluate(X_test, y_test)\n",
    "y_pred = model.predict(X_new)"
   ]
  },
  {
   "cell_type": "code",
   "execution_count": 19,
   "metadata": {},
   "outputs": [],
   "source": [
    "input_A = keras.layers.Input(shape=[5], name=\"wide_input\")\n",
    "input_B = keras.layers.Input(shape=[6], name=\"deep_input\")\n",
    "hidden1 = keras.layers.Dense(30, activation=\"relu\")(input_B)\n",
    "hidden2 = keras.layers.Dense(30, activation=\"relu\")(hidden1)\n",
    "concat = keras.layers.concatenate([input_A, hidden2])\n",
    "output = keras.layers.Dense(1, name=\"output\")(concat)\n",
    "model = keras.models.Model(inputs=[input_A, input_B], outputs=[output])"
   ]
  },
  {
   "cell_type": "code",
   "execution_count": 20,
   "metadata": {},
   "outputs": [
    {
     "name": "stdout",
     "output_type": "stream",
     "text": [
      "Train on 11610 samples, validate on 3870 samples\n",
      "Epoch 1/20\n",
      "11610/11610 [==============================] - 0s 32us/sample - loss: 1.7638 - val_loss: 0.8443\n",
      "Epoch 2/20\n",
      "11610/11610 [==============================] - 0s 24us/sample - loss: 0.7587 - val_loss: 0.6641\n",
      "Epoch 3/20\n",
      "11610/11610 [==============================] - 0s 24us/sample - loss: 0.6576 - val_loss: 0.6001\n",
      "Epoch 4/20\n",
      "11610/11610 [==============================] - 0s 24us/sample - loss: 0.6030 - val_loss: 0.5678\n",
      "Epoch 5/20\n",
      "11610/11610 [==============================] - 0s 24us/sample - loss: 0.5660 - val_loss: 0.5528\n",
      "Epoch 6/20\n",
      "11610/11610 [==============================] - 0s 24us/sample - loss: 0.5392 - val_loss: 0.5183\n",
      "Epoch 7/20\n",
      "11610/11610 [==============================] - 0s 25us/sample - loss: 0.5185 - val_loss: 0.4940\n",
      "Epoch 8/20\n",
      "11610/11610 [==============================] - 0s 25us/sample - loss: 0.5020 - val_loss: 0.4751\n",
      "Epoch 9/20\n",
      "11610/11610 [==============================] - 0s 25us/sample - loss: 0.4902 - val_loss: 0.4555\n",
      "Epoch 10/20\n",
      "11610/11610 [==============================] - 0s 24us/sample - loss: 0.4786 - val_loss: 0.4438\n",
      "Epoch 11/20\n",
      "11610/11610 [==============================] - 0s 23us/sample - loss: 0.4690 - val_loss: 0.4328\n",
      "Epoch 12/20\n",
      "11610/11610 [==============================] - 0s 23us/sample - loss: 0.4623 - val_loss: 0.4227\n",
      "Epoch 13/20\n",
      "11610/11610 [==============================] - 0s 24us/sample - loss: 0.4569 - val_loss: 0.4182\n",
      "Epoch 14/20\n",
      "11610/11610 [==============================] - 0s 23us/sample - loss: 0.4515 - val_loss: 0.4199\n",
      "Epoch 15/20\n",
      "11610/11610 [==============================] - 0s 23us/sample - loss: 0.4486 - val_loss: 0.4198\n",
      "Epoch 16/20\n",
      "11610/11610 [==============================] - 0s 23us/sample - loss: 0.4451 - val_loss: 0.4113\n",
      "Epoch 17/20\n",
      "11610/11610 [==============================] - 0s 24us/sample - loss: 0.4418 - val_loss: 0.4207\n",
      "Epoch 18/20\n",
      "11610/11610 [==============================] - 0s 24us/sample - loss: 0.4395 - val_loss: 0.4107\n",
      "Epoch 19/20\n",
      "11610/11610 [==============================] - 0s 24us/sample - loss: 0.4358 - val_loss: 0.4119\n",
      "Epoch 20/20\n",
      "11610/11610 [==============================] - 0s 24us/sample - loss: 0.4346 - val_loss: 0.4118\n",
      "5160/5160 [==============================] - 0s 12us/sample - loss: 0.4280\n"
     ]
    }
   ],
   "source": [
    "model.compile(loss=\"mse\", optimizer=keras.optimizers.SGD(lr=1e-3))\n",
    "\n",
    "X_train_A, X_train_B = X_train[:, :5], X_train[:, 2:]\n",
    "X_valid_A, X_valid_B = X_valid[:, :5], X_valid[:, 2:]\n",
    "X_test_A, X_test_B = X_test[:, :5], X_test[:, 2:]\n",
    "X_new_A, X_new_B = X_test_A[:3], X_test_B[:3]\n",
    "\n",
    "history = model.fit((X_train_A, X_train_B), y_train, epochs=20,\n",
    "                    validation_data=((X_valid_A, X_valid_B), y_valid))\n",
    "mse_test = model.evaluate((X_test_A, X_test_B), y_test)\n",
    "y_pred = model.predict((X_new_A, X_new_B))"
   ]
  },
  {
   "cell_type": "code",
   "execution_count": 22,
   "metadata": {},
   "outputs": [],
   "source": [
    "import os\n",
    "root_logdir = os.path.join(os.curdir, \"my_logs\")"
   ]
  },
  {
   "cell_type": "code",
   "execution_count": 23,
   "metadata": {},
   "outputs": [
    {
     "data": {
      "text/plain": [
       "'./my_logs/run_2019_08_12-13_06_28'"
      ]
     },
     "execution_count": 23,
     "metadata": {},
     "output_type": "execute_result"
    }
   ],
   "source": [
    "def get_run_logdir():\n",
    "    import time\n",
    "    run_id = time.strftime(\"run_%Y_%m_%d-%H_%M_%S\")\n",
    "    return os.path.join(root_logdir, run_id)\n",
    "\n",
    "run_logdir = get_run_logdir()\n",
    "run_logdir"
   ]
  },
  {
   "cell_type": "code",
   "execution_count": 24,
   "metadata": {},
   "outputs": [],
   "source": [
    "keras.backend.clear_session()\n",
    "np.random.seed(42)\n",
    "tf.random.set_seed(42)"
   ]
  },
  {
   "cell_type": "code",
   "execution_count": 25,
   "metadata": {},
   "outputs": [],
   "source": [
    "model = keras.models.Sequential([\n",
    "    keras.layers.Dense(30, activation=\"relu\", input_shape=[8]),\n",
    "    keras.layers.Dense(30, activation=\"relu\"),\n",
    "    keras.layers.Dense(1)\n",
    "])    \n",
    "model.compile(loss=\"mse\", optimizer=keras.optimizers.SGD(lr=1e-3))"
   ]
  },
  {
   "cell_type": "code",
   "execution_count": 27,
   "metadata": {},
   "outputs": [
    {
     "name": "stdout",
     "output_type": "stream",
     "text": [
      "Train on 11610 samples, validate on 3870 samples\n",
      "Epoch 1/10\n",
      "11610/11610 [==============================] - 0s 32us/sample - loss: 1.8807 - val_loss: 0.7701\n",
      "Epoch 2/10\n",
      "11610/11610 [==============================] - 0s 23us/sample - loss: 0.6570 - val_loss: 0.7268\n",
      "Epoch 3/10\n",
      "11610/11610 [==============================] - 0s 23us/sample - loss: 0.5932 - val_loss: 0.6569\n",
      "Epoch 4/10\n",
      "11610/11610 [==============================] - 0s 22us/sample - loss: 0.5547 - val_loss: 0.5244\n",
      "Epoch 5/10\n",
      "11610/11610 [==============================] - 0s 23us/sample - loss: 0.5269 - val_loss: 0.5068\n",
      "Epoch 6/10\n",
      "11610/11610 [==============================] - 0s 24us/sample - loss: 0.5035 - val_loss: 0.5028\n",
      "Epoch 7/10\n",
      "11610/11610 [==============================] - 0s 24us/sample - loss: 0.4852 - val_loss: 0.4924\n",
      "Epoch 8/10\n",
      "11610/11610 [==============================] - 0s 24us/sample - loss: 0.4709 - val_loss: 0.4534\n",
      "Epoch 9/10\n",
      "11610/11610 [==============================] - 0s 26us/sample - loss: 0.4578 - val_loss: 0.4403\n",
      "Epoch 10/10\n",
      "11610/11610 [==============================] - 0s 23us/sample - loss: 0.4473 - val_loss: 0.4496\n",
      "5160/5160 [==============================] - 0s 14us/sample - loss: 0.4468\n"
     ]
    }
   ],
   "source": [
    "model.compile(loss=\"mse\", optimizer=keras.optimizers.SGD(lr=1e-3))\n",
    "checkpoint_cb = keras.callbacks.ModelCheckpoint(\"my_keras_model.h5\", save_best_only=True)\n",
    "history = model.fit(X_train, y_train, epochs=10,\n",
    "                    validation_data=(X_valid, y_valid),\n",
    "                    callbacks=[checkpoint_cb])\n",
    "model = keras.models.load_model(\"my_keras_model.h5\") # rollback to best model\n",
    "mse_test = model.evaluate(X_test, y_test)"
   ]
  },
  {
   "cell_type": "code",
   "execution_count": 28,
   "metadata": {},
   "outputs": [
    {
     "name": "stdout",
     "output_type": "stream",
     "text": [
      "Train on 11610 samples, validate on 3870 samples\n",
      "Epoch 1/100\n",
      "11610/11610 [==============================] - 0s 30us/sample - loss: 0.4483 - val_loss: 0.4280\n",
      "Epoch 2/100\n",
      "11610/11610 [==============================] - 0s 25us/sample - loss: 0.4393 - val_loss: 0.4106\n",
      "Epoch 3/100\n",
      "11610/11610 [==============================] - 0s 24us/sample - loss: 0.4319 - val_loss: 0.4078\n",
      "Epoch 4/100\n",
      "11610/11610 [==============================] - 0s 24us/sample - loss: 0.4262 - val_loss: 0.4037\n",
      "Epoch 5/100\n",
      "11610/11610 [==============================] - 0s 28us/sample - loss: 0.4205 - val_loss: 0.3956\n",
      "Epoch 6/100\n",
      "11610/11610 [==============================] - 0s 28us/sample - loss: 0.4160 - val_loss: 0.3894\n",
      "Epoch 7/100\n",
      "11610/11610 [==============================] - 0s 27us/sample - loss: 0.4116 - val_loss: 0.3891\n",
      "Epoch 8/100\n",
      "11610/11610 [==============================] - 0s 27us/sample - loss: 0.4077 - val_loss: 0.3817\n",
      "Epoch 9/100\n",
      "11610/11610 [==============================] - 0s 27us/sample - loss: 0.4041 - val_loss: 0.3783\n",
      "Epoch 10/100\n",
      "11610/11610 [==============================] - 0s 22us/sample - loss: 0.4010 - val_loss: 0.3757\n",
      "Epoch 11/100\n",
      "11610/11610 [==============================] - 0s 25us/sample - loss: 0.3980 - val_loss: 0.3731\n",
      "Epoch 12/100\n",
      "11610/11610 [==============================] - 0s 24us/sample - loss: 0.3951 - val_loss: 0.3743\n",
      "Epoch 13/100\n",
      "11610/11610 [==============================] - 0s 22us/sample - loss: 0.3924 - val_loss: 0.3686\n",
      "Epoch 14/100\n",
      "11610/11610 [==============================] - 0s 22us/sample - loss: 0.3898 - val_loss: 0.3678\n",
      "Epoch 15/100\n",
      "11610/11610 [==============================] - 0s 26us/sample - loss: 0.3873 - val_loss: 0.3626\n",
      "Epoch 16/100\n",
      "11610/11610 [==============================] - 0s 24us/sample - loss: 0.3850 - val_loss: 0.3612\n",
      "Epoch 17/100\n",
      "11610/11610 [==============================] - 0s 25us/sample - loss: 0.3831 - val_loss: 0.3583\n",
      "Epoch 18/100\n",
      "11610/11610 [==============================] - 0s 23us/sample - loss: 0.3807 - val_loss: 0.3597\n",
      "Epoch 19/100\n",
      "11610/11610 [==============================] - 0s 23us/sample - loss: 0.3785 - val_loss: 0.3699\n",
      "Epoch 20/100\n",
      "11610/11610 [==============================] - 0s 27us/sample - loss: 0.3768 - val_loss: 0.3526\n",
      "Epoch 21/100\n",
      "11610/11610 [==============================] - 0s 24us/sample - loss: 0.3748 - val_loss: 0.3534\n",
      "Epoch 22/100\n",
      "11610/11610 [==============================] - 0s 24us/sample - loss: 0.3730 - val_loss: 0.3541\n",
      "Epoch 23/100\n",
      "11610/11610 [==============================] - 0s 26us/sample - loss: 0.3715 - val_loss: 0.3506\n",
      "Epoch 24/100\n",
      "11610/11610 [==============================] - 0s 24us/sample - loss: 0.3699 - val_loss: 0.3482\n",
      "Epoch 25/100\n",
      "11610/11610 [==============================] - 0s 25us/sample - loss: 0.3684 - val_loss: 0.3541\n",
      "Epoch 26/100\n",
      "11610/11610 [==============================] - 0s 29us/sample - loss: 0.3669 - val_loss: 0.3452\n",
      "Epoch 27/100\n",
      "11610/11610 [==============================] - 0s 26us/sample - loss: 0.3658 - val_loss: 0.3488\n",
      "Epoch 28/100\n",
      "11610/11610 [==============================] - 0s 26us/sample - loss: 0.3645 - val_loss: 0.3440\n",
      "Epoch 29/100\n",
      "11610/11610 [==============================] - 0s 23us/sample - loss: 0.3631 - val_loss: 0.3451\n",
      "Epoch 30/100\n",
      "11610/11610 [==============================] - 0s 28us/sample - loss: 0.3623 - val_loss: 0.3466\n",
      "Epoch 31/100\n",
      "11610/11610 [==============================] - 0s 22us/sample - loss: 0.3610 - val_loss: 0.3489\n",
      "Epoch 32/100\n",
      "11610/11610 [==============================] - 0s 26us/sample - loss: 0.3596 - val_loss: 0.3543\n",
      "Epoch 33/100\n",
      "11610/11610 [==============================] - 0s 23us/sample - loss: 0.3590 - val_loss: 0.3438\n",
      "Epoch 34/100\n",
      "11610/11610 [==============================] - 0s 24us/sample - loss: 0.3577 - val_loss: 0.3536\n",
      "Epoch 35/100\n",
      "11610/11610 [==============================] - 0s 26us/sample - loss: 0.3570 - val_loss: 0.3640\n",
      "Epoch 36/100\n",
      "11610/11610 [==============================] - 0s 24us/sample - loss: 0.3562 - val_loss: 0.3382\n",
      "Epoch 37/100\n",
      "11610/11610 [==============================] - 0s 22us/sample - loss: 0.3551 - val_loss: 0.3772\n",
      "Epoch 38/100\n",
      "11610/11610 [==============================] - 0s 26us/sample - loss: 0.3545 - val_loss: 0.3349\n",
      "Epoch 39/100\n",
      "11610/11610 [==============================] - 0s 29us/sample - loss: 0.3534 - val_loss: 0.3379\n",
      "Epoch 40/100\n",
      "11610/11610 [==============================] - 0s 24us/sample - loss: 0.3527 - val_loss: 0.3561\n",
      "Epoch 41/100\n",
      "11610/11610 [==============================] - 0s 23us/sample - loss: 0.3523 - val_loss: 0.3320\n",
      "Epoch 42/100\n",
      "11610/11610 [==============================] - 0s 22us/sample - loss: 0.3513 - val_loss: 0.3832\n",
      "Epoch 43/100\n",
      "11610/11610 [==============================] - 0s 23us/sample - loss: 0.3509 - val_loss: 0.3367\n",
      "Epoch 44/100\n",
      "11610/11610 [==============================] - 0s 23us/sample - loss: 0.3499 - val_loss: 0.3488\n",
      "Epoch 45/100\n",
      "11610/11610 [==============================] - 0s 22us/sample - loss: 0.3493 - val_loss: 0.3410\n",
      "Epoch 46/100\n",
      "11610/11610 [==============================] - 0s 24us/sample - loss: 0.3486 - val_loss: 0.3290\n",
      "Epoch 47/100\n",
      "11610/11610 [==============================] - 0s 23us/sample - loss: 0.3480 - val_loss: 0.3921\n",
      "Epoch 48/100\n",
      "11610/11610 [==============================] - 0s 26us/sample - loss: 0.3474 - val_loss: 0.3278\n",
      "Epoch 49/100\n",
      "11610/11610 [==============================] - 0s 23us/sample - loss: 0.3467 - val_loss: 0.3841\n",
      "Epoch 50/100\n",
      "11610/11610 [==============================] - 0s 25us/sample - loss: 0.3464 - val_loss: 0.3370\n",
      "Epoch 51/100\n",
      "11610/11610 [==============================] - 0s 24us/sample - loss: 0.3458 - val_loss: 0.3441\n",
      "Epoch 52/100\n",
      "11610/11610 [==============================] - 0s 26us/sample - loss: 0.3451 - val_loss: 0.3427\n",
      "Epoch 53/100\n",
      "11610/11610 [==============================] - 0s 23us/sample - loss: 0.3445 - val_loss: 0.3459\n",
      "Epoch 54/100\n",
      "11610/11610 [==============================] - 0s 22us/sample - loss: 0.3441 - val_loss: 0.3380\n",
      "Epoch 55/100\n",
      "11610/11610 [==============================] - 0s 23us/sample - loss: 0.3436 - val_loss: 0.3432\n",
      "Epoch 56/100\n",
      "11610/11610 [==============================] - 0s 23us/sample - loss: 0.3432 - val_loss: 0.3415\n",
      "Epoch 57/100\n",
      "11610/11610 [==============================] - 0s 22us/sample - loss: 0.3426 - val_loss: 0.3346\n",
      "Epoch 58/100\n",
      "11610/11610 [==============================] - 0s 22us/sample - loss: 0.3421 - val_loss: 0.3486\n",
      "5160/5160 [==============================] - 0s 10us/sample - loss: 0.3466\n"
     ]
    }
   ],
   "source": [
    "model.compile(loss=\"mse\", optimizer=keras.optimizers.SGD(lr=1e-3))\n",
    "early_stopping_cb = keras.callbacks.EarlyStopping(patience=10,\n",
    "                                                  restore_best_weights=True)\n",
    "history = model.fit(X_train, y_train, epochs=100,\n",
    "                    validation_data=(X_valid, y_valid),\n",
    "                    callbacks=[checkpoint_cb, early_stopping_cb])\n",
    "mse_test = model.evaluate(X_test, y_test)"
   ]
  },
  {
   "cell_type": "code",
   "execution_count": 29,
   "metadata": {},
   "outputs": [],
   "source": [
    "model = keras.models.Sequential([\n",
    "    keras.layers.Dense(30, activation=\"relu\", input_shape=[8]),\n",
    "    keras.layers.Dense(30, activation=\"relu\"),\n",
    "    keras.layers.Dense(1)\n",
    "])    \n",
    "model.compile(loss=\"mse\", optimizer=keras.optimizers.SGD(lr=1e-3))"
   ]
  },
  {
   "cell_type": "code",
   "execution_count": 30,
   "metadata": {},
   "outputs": [
    {
     "name": "stdout",
     "output_type": "stream",
     "text": [
      "Train on 11610 samples, validate on 3870 samples\n",
      "Epoch 1/30\n",
      "11610/11610 [==============================] - 0s 30us/sample - loss: 1.4609 - val_loss: 0.8123\n",
      "Epoch 2/30\n",
      "11610/11610 [==============================] - 0s 23us/sample - loss: 0.7376 - val_loss: 0.6587\n",
      "Epoch 3/30\n",
      "11610/11610 [==============================] - 0s 24us/sample - loss: 0.6511 - val_loss: 0.5872\n",
      "Epoch 4/30\n",
      "11610/11610 [==============================] - 0s 24us/sample - loss: 0.5946 - val_loss: 0.5454\n",
      "Epoch 5/30\n",
      "11610/11610 [==============================] - 0s 23us/sample - loss: 0.5529 - val_loss: 0.5044\n",
      "Epoch 6/30\n",
      "11610/11610 [==============================] - 0s 26us/sample - loss: 0.5198 - val_loss: 0.4748\n",
      "Epoch 7/30\n",
      "11610/11610 [==============================] - 0s 25us/sample - loss: 0.4937 - val_loss: 0.4494\n",
      "Epoch 8/30\n",
      "11610/11610 [==============================] - 0s 25us/sample - loss: 0.4726 - val_loss: 0.4346\n",
      "Epoch 9/30\n",
      "11610/11610 [==============================] - 0s 26us/sample - loss: 0.4554 - val_loss: 0.4384\n",
      "Epoch 10/30\n",
      "11610/11610 [==============================] - 0s 25us/sample - loss: 0.4434 - val_loss: 0.4231\n",
      "Epoch 11/30\n",
      "11610/11610 [==============================] - 0s 22us/sample - loss: 0.4328 - val_loss: 0.4404\n",
      "Epoch 12/30\n",
      "11610/11610 [==============================] - 0s 25us/sample - loss: 0.4247 - val_loss: 0.4356\n",
      "Epoch 13/30\n",
      "11610/11610 [==============================] - 0s 26us/sample - loss: 0.4179 - val_loss: 0.4455\n",
      "Epoch 14/30\n",
      "11610/11610 [==============================] - 0s 23us/sample - loss: 0.4123 - val_loss: 0.4679\n",
      "Epoch 15/30\n",
      "11610/11610 [==============================] - 0s 22us/sample - loss: 0.4078 - val_loss: 0.4379\n",
      "Epoch 16/30\n",
      "11610/11610 [==============================] - 0s 24us/sample - loss: 0.4035 - val_loss: 0.4317\n",
      "Epoch 17/30\n",
      "11610/11610 [==============================] - 0s 23us/sample - loss: 0.4000 - val_loss: 0.4354\n",
      "Epoch 18/30\n",
      "11610/11610 [==============================] - 0s 23us/sample - loss: 0.3970 - val_loss: 0.4481\n",
      "Epoch 19/30\n",
      "11610/11610 [==============================] - 0s 22us/sample - loss: 0.3939 - val_loss: 0.4602\n",
      "Epoch 20/30\n",
      "11610/11610 [==============================] - 0s 22us/sample - loss: 0.3915 - val_loss: 0.4592\n",
      "Epoch 21/30\n",
      "11610/11610 [==============================] - 0s 22us/sample - loss: 0.3888 - val_loss: 0.4609\n",
      "Epoch 22/30\n",
      "11610/11610 [==============================] - 0s 22us/sample - loss: 0.3868 - val_loss: 0.4567\n",
      "Epoch 23/30\n",
      "11610/11610 [==============================] - 0s 22us/sample - loss: 0.3846 - val_loss: 0.4279\n",
      "Epoch 24/30\n",
      "11610/11610 [==============================] - 0s 22us/sample - loss: 0.3826 - val_loss: 0.4192\n",
      "Epoch 25/30\n",
      "11610/11610 [==============================] - 0s 23us/sample - loss: 0.3808 - val_loss: 0.4196\n",
      "Epoch 26/30\n",
      "11610/11610 [==============================] - 0s 25us/sample - loss: 0.3791 - val_loss: 0.4268\n",
      "Epoch 27/30\n",
      "11610/11610 [==============================] - 0s 22us/sample - loss: 0.3776 - val_loss: 0.4247\n",
      "Epoch 28/30\n",
      "11610/11610 [==============================] - 0s 25us/sample - loss: 0.3761 - val_loss: 0.4122\n",
      "Epoch 29/30\n",
      "11610/11610 [==============================] - 0s 23us/sample - loss: 0.3747 - val_loss: 0.4516\n",
      "Epoch 30/30\n",
      "11610/11610 [==============================] - 0s 24us/sample - loss: 0.3734 - val_loss: 0.4375\n"
     ]
    }
   ],
   "source": [
    "tensorboard_cb = keras.callbacks.TensorBoard(run_logdir)\n",
    "history = model.fit(X_train, y_train, epochs=30,\n",
    "                    validation_data=(X_valid, y_valid),\n",
    "                    callbacks=[checkpoint_cb, tensorboard_cb])"
   ]
  },
  {
   "cell_type": "code",
   "execution_count": 32,
   "metadata": {},
   "outputs": [
    {
     "name": "stdout",
     "output_type": "stream",
     "text": [
      "The tensorboard extension is already loaded. To reload it, use:\n",
      "  %reload_ext tensorboard\n"
     ]
    },
    {
     "data": {
      "text/html": [
       "\n",
       "        <iframe\n",
       "            width=\"100%\"\n",
       "            height=\"800\"\n",
       "            src=\"http://localhost:6006\"\n",
       "            frameborder=\"0\"\n",
       "            allowfullscreen\n",
       "        ></iframe>\n",
       "        "
      ],
      "text/plain": [
       "<IPython.lib.display.IFrame at 0x7fbad86b9d68>"
      ]
     },
     "metadata": {},
     "output_type": "display_data"
    }
   ],
   "source": [
    "%load_ext tensorboard\n",
    "%tensorboard --logdir=./my_logs --port=6006"
   ]
  },
  {
   "cell_type": "code",
   "execution_count": null,
   "metadata": {},
   "outputs": [],
   "source": []
  }
 ],
 "metadata": {
  "kernelspec": {
   "display_name": "Python 3",
   "language": "python",
   "name": "python3"
  },
  "language_info": {
   "codemirror_mode": {
    "name": "ipython",
    "version": 3
   },
   "file_extension": ".py",
   "mimetype": "text/x-python",
   "name": "python",
   "nbconvert_exporter": "python",
   "pygments_lexer": "ipython3",
   "version": "3.7.3"
  }
 },
 "nbformat": 4,
 "nbformat_minor": 2
}
